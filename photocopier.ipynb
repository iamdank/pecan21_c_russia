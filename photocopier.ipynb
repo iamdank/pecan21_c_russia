{
 "cells": [
  {
   "cell_type": "code",
   "execution_count": null,
   "id": "b09cc679-b075-4830-abda-7b0a74d30e36",
   "metadata": {},
   "outputs": [
    {
     "name": "stdin",
     "output_type": "stream",
     "text": [
      "Type 'encode' to encrypt, type 'decode' to decrypt:\n",
      " encode\n",
      "Type your message:\n",
      " From: Dimitri (Dimitri_the_mafia_boss@pecan2021_CTF.com)  \tTo: (undisclosed) Message:   SUCCESS: Flag 1/5 obtained:  Flag 1 of 5: CODE ID HERE  Flag 2 of 5: BEGIN The code to the ZIP file is “DOGECOIN”\n",
      "Type the shift number ('decimal'):\n",
      " 420\n"
     ]
    },
    {
     "name": "stdout",
     "output_type": "stream",
     "text": [
      "Here's the encoded result: jvsq: hmqmxvm (hmqmxvm_xli_qejme_fsww@tiger2021_gxj.gsq)  \txs: (yrhmwgpswih) qiwweki:   wyggiww: jpek 1/5 sfxemrih:  jpek 1 sj 5: gshi mh livi  jpek 2 sj 5: fikmr xli gshi xs xli dmt jmpi mw “hskigsmr”\n"
     ]
    },
    {
     "name": "stdin",
     "output_type": "stream",
     "text": [
      "Type 'yes' if you want to go again. Otherwise type 'no'.\n",
      " yes\n",
      "Type 'encode' to encrypt, type 'decode' to decrypt:\n",
      " decode\n",
      "Type your message:\n",
      " jvsq: hmqmxvm (hmqmxvm_xli_qejme_fsww@tiger2021_gxj.gsq)  \txs: (yrhmwgpswih) qiwweki:   wyggiww: jpek 1/5 sfxemrih:  jpek 1 sj 5: gshi mh livi  jpek 2 sj 5: fikmr xli gshi xs xli dmt jmpi mw “hskigsmr”\n",
      "Type the shift number ('decimal'):\n",
      " 420\n"
     ]
    },
    {
     "name": "stdout",
     "output_type": "stream",
     "text": [
      "Here's the decoded result: from: dimitri (dimitri_the_mafia_boss@pecan2021_ctf.com)  \tto: (undisclosed) message:   success: flag 1/5 obtained:  flag 1 of 5: code id here  flag 2 of 5: begin the code to the zip file is “dogecoin”\n"
     ]
    },
    {
     "name": "stdin",
     "output_type": "stream",
     "text": [
      "Type 'yes' if you want to go again. Otherwise type 'no'.\n",
      " yes\n",
      "Type 'encode' to encrypt, type 'decode' to decrypt:\n",
      " encoed\n",
      "Type your message:\n",
      " From: Dimitri (Dimitri_the_mafia_boss@pecan2021_CTF.com)  \tSUCCESS: Flag 1 of 5: CODE ID HERE Flag 2: BEGIN. ZIP file: “DOGECOIN”\n",
      "Type the shift number ('decimal'):\n",
      " 420\n"
     ]
    },
    {
     "name": "stdout",
     "output_type": "stream",
     "text": [
      "Here's the encoedd result: jvsq: hmqmxvm (hmqmxvm_xli_qejme_fsww@tiger2021_gxj.gsq)  \twyggiww: jpek 1 sj 5: gshi mh livi jpek 2: fikmr. dmt jmpi: “hskigsmr”\n"
     ]
    },
    {
     "name": "stdin",
     "output_type": "stream",
     "text": [
      "Type 'yes' if you want to go again. Otherwise type 'no'.\n",
      " yes\n",
      "Type 'encode' to encrypt, type 'decode' to decrypt:\n",
      " decode\n",
      "Type your message:\n",
      " jvsq: hmqmxvm (hmqmxvm_xli_qejme_fsww@tiger2021_gxj.gsq)  \twyggiww: jpek 1 sj 5: gshi mh livi jpek 2: fikmr. dmt jmpi: “hskigsmr”\n",
      "Type the shift number ('decimal'):\n",
      " 420\n"
     ]
    },
    {
     "name": "stdout",
     "output_type": "stream",
     "text": [
      "Here's the decoded result: from: dimitri (dimitri_the_mafia_boss@pecan2021_ctf.com)  \tsuccess: flag 1 of 5: code id here flag 2: begin. zip file: “dogecoin”\n"
     ]
    },
    {
     "name": "stdin",
     "output_type": "stream",
     "text": [
      "Type 'yes' if you want to go again. Otherwise type 'no'.\n",
      " yes\n",
      "Type 'encode' to encrypt, type 'decode' to decrypt:\n",
      " encode\n",
      "Type your message:\n",
      " From: Dimitri (Dimitri_the_mafia_boss@pecan2021_CTF.com)  \tSUCCESS: Flag 1 of 5: CODE ID HERE // Flag 2: BEGIN. ZIP file: “DOGECOIN”\n",
      "Type the shift number ('decimal'):\n",
      " 420\n"
     ]
    },
    {
     "name": "stdout",
     "output_type": "stream",
     "text": [
      "Here's the encoded result: jvsq: hmqmxvm (hmqmxvm_xli_qejme_fsww@tiger2021_gxj.gsq)  \twyggiww: jpek 1 sj 5: gshi mh livi // jpek 2: fikmr. dmt jmpi: “hskigsmr”\n"
     ]
    }
   ],
   "source": [
    "alphabet = ['a', 'b', 'c', 'd', 'e', 'f', 'g', 'h', 'i', 'j', 'k', 'l', 'm', 'n', 'o', 'p', 'q', 'r', 's', 't', 'u', 'v', 'w', 'x', 'y', 'z', 'a', 'b', 'c', 'd', 'e', 'f', 'g', 'h', 'i', 'j', 'k', 'l', 'm', 'n', 'o', 'p', 'q', 'r', 's', 't', 'u', 'v', 'w', 'x', 'y', 'z']\n",
    "\n",
    "def caesar(start_text, shift_amount, cipher_direction):\n",
    "  end_text = \"\"\n",
    "  if cipher_direction == \"decode\":\n",
    "    shift_amount *= -1\n",
    "  for char in start_text:\n",
    "    if char in alphabet:\n",
    "      position = alphabet.index(char)\n",
    "      new_position = position + shift_amount\n",
    "      end_text += alphabet[new_position]\n",
    "    else:\n",
    "      end_text += char\n",
    "  print(f\"Here's the {cipher_direction}d result: {end_text}\")\n",
    "\n",
    "\n",
    "should_end = False\n",
    "while not should_end:\n",
    "\n",
    "  direction = input(\"Type 'encode' to encrypt, type 'decode' to decrypt:\\n\")\n",
    "  text = input(\"Type your message:\\n\").lower()\n",
    "  shift = int(input(\"Type the shift number ('decimal'):\\n\"))\n",
    "  shift = shift % 26\n",
    "\n",
    "  caesar(start_text=text, shift_amount=shift, cipher_direction=direction)\n",
    "\n",
    "  restart = input(\"Type 'yes' if you want to go again. Otherwise type 'no'.\\n\")\n",
    "  if restart == \"no\":\n",
    "    should_end = True\n",
    "    print(\"Goodbye Comrade.\")"
   ]
  },
  {
   "cell_type": "code",
   "execution_count": null,
   "id": "6fa3d8e9-4340-43a0-90fc-4cefdbba1072",
   "metadata": {},
   "outputs": [],
   "source": []
  },
  {
   "cell_type": "code",
   "execution_count": null,
   "id": "a00f053d-6f27-4ee3-85bb-82b27e942b97",
   "metadata": {},
   "outputs": [],
   "source": []
  }
 ],
 "metadata": {
  "kernelspec": {
   "display_name": "Python 3 (ipykernel)",
   "language": "python",
   "name": "python3"
  },
  "language_info": {
   "codemirror_mode": {
    "name": "ipython",
    "version": 3
   },
   "file_extension": ".py",
   "mimetype": "text/x-python",
   "name": "python",
   "nbconvert_exporter": "python",
   "pygments_lexer": "ipython3",
   "version": "3.8.6"
  }
 },
 "nbformat": 4,
 "nbformat_minor": 5
}
